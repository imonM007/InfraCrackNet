{
  "nbformat": 4,
  "nbformat_minor": 0,
  "metadata": {
    "colab": {
      "provenance": [],
      "toc_visible": true,
      "authorship_tag": "ABX9TyMY30uHg3zzwqOJTouwnrCg",
      "include_colab_link": true
    },
    "kernelspec": {
      "name": "python3",
      "display_name": "Python 3"
    },
    "language_info": {
      "name": "python"
    }
  },
  "cells": [
    {
      "cell_type": "markdown",
      "metadata": {
        "id": "view-in-github",
        "colab_type": "text"
      },
      "source": [
        "<a href=\"https://colab.research.google.com/github/imonM007/InfraCrackNet/blob/main/json_to_jpg.ipynb\" target=\"_parent\"><img src=\"https://colab.research.google.com/assets/colab-badge.svg\" alt=\"Open In Colab\"/></a>"
      ]
    },
    {
      "cell_type": "markdown",
      "source": [
        "# This code is for converting all the JSON file to JPG images for the corresponding input image's file name.\n"
      ],
      "metadata": {
        "id": "XtEm49-DrIj2"
      }
    },
    {
      "cell_type": "code",
      "execution_count": null,
      "metadata": {
        "id": "Oigw_Dpsp-pN"
      },
      "outputs": [],
      "source": [
        "from google.colab import drive\n",
        "drive.mount('/content/drive')"
      ]
    },
    {
      "cell_type": "code",
      "source": [
        "import os\n",
        "import json\n",
        "import cv2\n",
        "import numpy as np"
      ],
      "metadata": {
        "id": "VBuCS0obq05o"
      },
      "execution_count": null,
      "outputs": []
    },
    {
      "cell_type": "code",
      "source": [
        "json_dir = '/content/drive/MyDrive/path_to_json_folder/'\n",
        "output_dir = '/content/drive/MyDrive/output_mask_folder/'\n",
        "\n",
        "if not os.path.exists(output_dir):\n",
        "    os.makedirs(output_dir)"
      ],
      "metadata": {
        "id": "AjybYEEFq3XK"
      },
      "execution_count": null,
      "outputs": []
    },
    {
      "cell_type": "code",
      "source": [
        "# Function to create masks from JSON annotations\n",
        "def create_mask_from_json(json_path, output_path, img_height, img_width):\n",
        "    # Load the JSON file\n",
        "    with open(json_path) as f:\n",
        "        data = json.load(f)\n",
        "\n",
        "    # Create an empty black mask\n",
        "    mask = np.zeros((img_height, img_width), dtype=np.uint8)\n",
        "\n",
        "    # Iterate over the annotations in the JSON\n",
        "    for shape in data['shapes']:\n",
        "        points = np.array(shape['points'], dtype=np.int32)\n",
        "        label = shape['label']\n",
        "\n",
        "        # Fill the area with white where cracks are present\n",
        "        if label == 'crack':\n",
        "            cv2.fillPoly(mask, [points], 255)\n",
        "\n",
        "    # Save the mask as a JPG file\n",
        "    cv2.imwrite(output_path, mask)\n",
        "\n",
        "# Loop through the JSON files in the directory\n",
        "for file_name in os.listdir(json_dir):\n",
        "    if file_name.endswith('.json'):\n",
        "        json_path = os.path.join(json_dir, file_name)\n",
        "\n",
        "        # Define the output JPG path\n",
        "        output_file_name = file_name.replace('.json', '.jpg')\n",
        "        output_path = os.path.join(output_dir, output_file_name)\n",
        "\n",
        "        # Load image dimensions (assuming they are consistent across images)\n",
        "        # You might have the dimensions as metadata in JSON or a consistent size for all images\n",
        "        img_height = 512  # Replace with actual image height\n",
        "        img_width = 512   # Replace with actual image width\n",
        "\n",
        "        # Convert JSON to mask JPG\n",
        "        create_mask_from_json(json_path, output_path, img_height, img_width)"
      ],
      "metadata": {
        "id": "PAcMTpC0q8H2"
      },
      "execution_count": null,
      "outputs": []
    },
    {
      "cell_type": "code",
      "source": [
        "print(\"Conversion complete. Masks saved to:\", output_dir)"
      ],
      "metadata": {
        "id": "rX_ZIDf8rFAQ"
      },
      "execution_count": null,
      "outputs": []
    }
  ]
}